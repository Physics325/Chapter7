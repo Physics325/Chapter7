{
 "cells": [
  {
   "cell_type": "markdown",
   "metadata": {},
   "source": [
    "### Lab 7 - Modeling Atmospheric CO2\n",
    "\n",
    "In this lab you will extend the CO2 cycle model of problem COW 2.8.E3 to include some additional effects: exchange with the ocean, CO2 emission to atmosphere from burning fossil fuels, and deforestation.  \n",
    "\n",
    "Worldwide use of fossil fuels has injected additional CO2 into the atmosphere.  This has resulted in observed increase in atmospheric concentration of CO2.  The commonly accepted value of \"pre-industrial\" levels of CO2 is 275 ppm(V) (that means 275 parts per million by volume.)  Given the volume of the atmosphere ($~1.8x10^{20}$ mols) and the molar volume of carbon in CO2, 0.012 kg/mol, you can determine the mass of CO2 in the pre-industrial atmosphere.\n",
    "\n",
    "1. The first thing you'll do is use tabulated data for worldwide CO2 production due to FF use to calculate how much cumulative CO2 has been added to the atmosphere since 1850.  You will compare the amount of atmospheric CO2 predicted due to FF production to the actual observed atmospheric CO2 levels.\n",
    "    1. There are two data files in the lab repo, one contains worldwide CO2 production due to FF, the other contains observed worldwide CO2 levels.  write code to read both files, calculate the predicted value of atmospheric CO2, and plot predicted and observed CO2 values on one graph.  \n",
    "    2. Calculate the ratio of observed change in CO2 to CO2 added by FF.  This number doesn't mean much in early times, but look at its value in the past 20-30 years.  What does it tell you?\n",
    "\n",
    "2. Evidentally, not all CO2 injected into the environment ends up in the atmosphere.  One likely sink for CO2 is the Ocean.  Start by sketching a box-flow diagram on a whiteboard for this system. Unlike the flows modeled in 2.8.E3, flow between the ocean and the atmosphere is not a simple linear donor or receptor flow.  That means the flow can not be written as being simply proportional to the stock in the ocean or atmosphere.  Instead the ocean’s ability to absorb more CO2 depends on how much is already in the ocean.  As the concentration of CO2 in the ocean increases its ability to absorb more CO2 goes down.  The reasons are discussed in problem COW 3.4, which explores the chemical reactions that occur as CO2 is dissolved in the ocean.  You don’t need to follow the discussion in detail, but what 3.4 does is find an equation for the steady-state concentration of CO2 in the oceans as a function of the concentration of CO2 in the atmosphere.  What we need is Eqn (29) for dY/dX, which says how much carbon stock in the ocean (Y) increases given an increase in carbon stock in the atmosphere (X).  With this value you can calculate how much carbon is added to the ocean (and subtracted from the atmosphere) give the increase is stock in the atmosphere in the previous time-step.  The constants K1, K2, Kh, Beta, and lambda found in Eqn. (29) can be found in the text of problem 3.4.  \n",
    "\n",
    "    One additional parameter you need is Ms, the volume of ocean involved in CO2 uptake from the atmosphere.  Use the following data to decide what value of Ms to use, and justify your choice in your notebook.\n",
    "\n",
    "    |Region\t|Ms (L)\t|T \n",
    "    \n",
    "    |Whole Ocean\t|1.35E+21\t|~1000 years\n",
    "    \n",
    "    |Mixing layer, 74 m depth\t|3.38E+19\t|~ 5 years\n",
    "    \n",
    "    |250 m depth\t|9.10E+19\t~ 25 years\n",
    "\n",
    "    Implement this flow and make plots of CO2 in atmosphere and ocean. You could also add the plot of observed CO2 in atmosphere, to judge how well the model compares. Again examine the ratio of change in CO2 of the model to CO2 added by FF, and comment on how it is different than before. Other metrics you might look at are the ratio of the model values to the observed values; close to 1 means the model did a good job.  You could also take the ratio of (the ratio of change in CO2 of the model to CO2 added by FF in this case) to (the ratio of the observed change in CO2 to CO2 added by FF in the first case), which will tell you what fraction of the observed deficit is taken up by the ocean.  Comment on your results.  Does the Ocean help explain where the CO2 added by Fossil Fuels goes?\n",
    "    \n",
    "    Note: The initial stock of carbon in the Ocean is 2234 (x$10^{12}$ kg).\n",
    "\n",
    "3. CO2 doesn't just cycle between atmosphere and ocean.  It also flows through living biomass and into organic and inorganic stocks in the ground, as you did in COW 2.8.E3.  Sketch this box-flow model on a whiteboard, being sure to include the ocean stock.  As in 2.8.E3, you'll need to determine values for the rate constants and initial values of stocks (by assuming that the system was in equilibrium at pre-industrial levels and using data found in the appendix.)\n",
    "\n",
    "    You'll notice that in this system the stock in living things (plants, trees, phytoplankton, etc.) grows substantially.  This is probably unrealistic: There's presumably some limit to how much plant life there can be, and I'm not aware of *measurements* showing a great increase in plant life in the past half-century.  To account for a crowding-like term that limits a population, ecological models often include a flow term out proportional to the *square* of the stock.  In this case, that flow would be $\\gamma x_1^2$. \n",
    "    \n",
    "    Implement this system, replacing the $\\gamma x_1$ term with $\\gamma x_1^2$, and plot graphs of all four stocks.  Comment on the results.\n",
    "\n",
    "4. Deforestation.  One source of CO2 we've overlooked is CO2 due to deforestation. One way to model deforestation is to say that it increases the rate at which Carbon flows from living to dead biomass.  Current estimates are that deforestation represents a flow of about 2x$10^{12}$ kg C/year, which is loss of forest cover of about 0.5% per year.  While this value probably changed throughout history, as a first approximation we’ll assume it’s constant.  You can use this information to calculate a new constant governing the flow out of living biomass.\n",
    "\n",
    "    Again, plot graphs for all four stocks and comment on the results.\n",
    "\n",
    "5. Forecast three future scenarios, predicting 100 years into future: (a) increase in CO2 emissions from FF grows at a 2% annual rate, (b) CO2 emissions from FF is flat at present day value, and (c) CO2 emissions from FF suddenly drops to zero.  Comment on the results.\n"
   ]
  },
  {
   "cell_type": "code",
   "execution_count": null,
   "metadata": {
    "collapsed": true
   },
   "outputs": [],
   "source": []
  }
 ],
 "metadata": {
  "kernelspec": {
   "display_name": "Python 3",
   "language": "python",
   "name": "python3"
  },
  "language_info": {
   "codemirror_mode": {
    "name": "ipython",
    "version": 3
   },
   "file_extension": ".py",
   "mimetype": "text/x-python",
   "name": "python",
   "nbconvert_exporter": "python",
   "pygments_lexer": "ipython3",
   "version": "3.5.1"
  }
 },
 "nbformat": 4,
 "nbformat_minor": 0
}
